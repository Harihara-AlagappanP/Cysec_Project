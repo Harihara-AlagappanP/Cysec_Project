{
  "nbformat": 4,
  "nbformat_minor": 0,
  "metadata": {
    "colab": {
      "name": "Cysec_project.ipynb",
      "provenance": [],
      "collapsed_sections": []
    },
    "kernelspec": {
      "name": "python3",
      "display_name": "Python 3"
    },
    "language_info": {
      "name": "python"
    }
  },
  "cells": [
    {
      "cell_type": "code",
      "metadata": {
        "id": "VcFmj8NRtplg",
        "colab": {
          "base_uri": "https://localhost:8080/"
        },
        "outputId": "864d4cd5-c43e-49a0-9063-d43447d377c6"
      },
      "source": [
        "import requests\n",
        "from datetime import datetime\n",
        "\n",
        "api_key = '358f3cd51eae9bdadd90319f1df5c925'\n",
        "loc = input(\"Enter the city name: \")\n",
        "\n",
        "comp_api_link = \"https://api.openweathermap.org/data/2.5/weather?q=\" + loc + \"&appid=\" + api_key\n",
        "api_link = requests.get(comp_api_link)\n",
        "api_data = api_link.json()\n",
        "\n",
        "temp_city = (api_data['main']['temp']) - 273.15\n",
        "weather_desc = api_data['weather'][0]['description']\n",
        "hmdt = api_data['main']['humidity']\n",
        "wind_spd = api_data['wind']['speed']\n",
        "date_time =  datetime.now().strftime(\"%d %b %Y | %I:%M:%S %p\")\n",
        "\n",
        "print(\"-------------------------------------------------------------\")\n",
        "print(\"Weather stats for {}  || {}\". format(loc.upper(),date_time))\n",
        "print(\"-------------------------------------------------------------\")\n",
        "\n",
        "print(\"Current temperature is: {:.2f} deg C\". format(temp_city))\n",
        "print(\"Current weather desc  :\",weather_desc)\n",
        "print(\"Current Humidity      :\",hmdt,'%')\n",
        "print(\"Current wind speed    :\",wind_spd,\"kmph\")\n",
        "\n",
        "pjt_obj = open(\"cysec project.txt\",\"w\")\n",
        "pjt_obj.write(\"-------------------------------------------------------------\" + \"\\n\")\n",
        "pjt_obj.write(\"Weather stats for {}  || {}\". format(loc.upper(),date_time) + \"\\n\")\n",
        "pjt_obj.write(\"-------------------------------------------------------------\" + \"\\n\")\n",
        "pjt_obj.write(\"Current temperature is: {:.2f} deg C\". format(temp_city) + \"\\n\")\n",
        "pjt_obj.write(\"Current weather desc  :\")\n",
        "pjt_obj.write(\" \" + weather_desc + \"\\n\")\n",
        "pjt_obj.write(\"Current Humidity      :\")\n",
        "pjt_obj.write(\" \" + str(hmdt) + \"%\" + \"\\n\")\n",
        "pjt_obj.write(\"Current wind speed    :\")\n",
        "pjt_obj.write(\" \" + str(wind_spd) + \"kmph\")\n",
        "pjt_obj.close()"
      ],
      "execution_count": 10,
      "outputs": [
        {
          "output_type": "stream",
          "text": [
            "Enter the city name: chennai\n",
            "-------------------------------------------------------------\n",
            "Weather stats for CHENNAI  || 22 Jun 2021 | 08:34:13 AM\n",
            "-------------------------------------------------------------\n",
            "Current temperature is: 34.98 deg C\n",
            "Current weather desc  : scattered clouds\n",
            "Current Humidity      : 63 %\n",
            "Current wind speed    : 1.79 kmph\n"
          ],
          "name": "stdout"
        }
      ]
    }
  ]
}